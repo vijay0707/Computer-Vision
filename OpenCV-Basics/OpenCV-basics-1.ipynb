{
 "cells": [
  {
   "cell_type": "markdown",
   "id": "34d16aa7",
   "metadata": {},
   "source": [
    "# OPENCV USING PYTHON "
   ]
  },
  {
   "cell_type": "markdown",
   "id": "977d076c",
   "metadata": {},
   "source": [
    "#### Topics Covered:\n",
    " - Reading an image\n",
    " - Displaying an image\n",
    " - Writing/Saving an image\n",
    " - Color Spaces"
   ]
  },
  {
   "cell_type": "markdown",
   "id": "b54cc33f",
   "metadata": {},
   "source": [
    "## Import the necessary libraries"
   ]
  },
  {
   "cell_type": "code",
   "execution_count": null,
   "id": "095e81c9",
   "metadata": {},
   "outputs": [],
   "source": [
    "import cv2\n",
    "import numpy as np\n",
    "import matplotlib.pyplot as plt"
   ]
  },
  {
   "cell_type": "markdown",
   "id": "77d63d2a",
   "metadata": {},
   "source": [
    "## Read the image and display it"
   ]
  },
  {
   "cell_type": "code",
   "execution_count": null,
   "id": "62b11be2",
   "metadata": {},
   "outputs": [],
   "source": [
    "img = cv2.imread(\"colorful.png\") #imread -to read\n",
    "img.shape #shape -width and height and channels of the image"
   ]
  },
  {
   "cell_type": "code",
   "execution_count": null,
   "id": "c97a02bb",
   "metadata": {},
   "outputs": [],
   "source": [
    "cv2.imshow(\"image\", img)  #imshow -to display\n",
    "# plt.imshow(img) \n",
    "cv2.waitKey(0)\n",
    "# It is for removing/deleting created GUI window from screen and memory\n",
    "cv2.destroyAllWindows()"
   ]
  },
  {
   "cell_type": "markdown",
   "id": "91a307fa",
   "metadata": {},
   "source": [
    "## Saving the image"
   ]
  },
  {
   "cell_type": "code",
   "execution_count": null,
   "id": "24728a7d",
   "metadata": {},
   "outputs": [],
   "source": [
    "cv2.imwrite(\"colorful-new.png\", img) #if saved successfully: returns True"
   ]
  },
  {
   "cell_type": "markdown",
   "id": "d482723c",
   "metadata": {},
   "source": [
    "## Color Spaces"
   ]
  },
  {
   "cell_type": "markdown",
   "id": "a7bbf5a9",
   "metadata": {},
   "source": [
    "**Color spaces** are a way to represent the color channels present in the image that gives the image that particular hue. There are several different color spaces and each has its own significance. \n",
    "\n",
    "Some of the popular color spaces are RGB (Red, Green, Blue), CMYK (Cyan, Magenta, Yellow, Black), HSV (Hue, Saturation, Value), etc.\n",
    "\n",
    "**BGR color space**: OpenCV’s default color space is RGB. However, it actually stores color in the BGR format. It is an additive color model where the different intensities of Blue, Green and Red give different shades of color. "
   ]
  },
  {
   "cell_type": "code",
   "execution_count": null,
   "id": "7014b970",
   "metadata": {},
   "outputs": [],
   "source": [
    "color_image = cv2.imread('RGB_paint.png')\n",
    "B, G, R = cv2.split(color_image)\n",
    "# Corresponding channels are separated\n",
    " \n",
    "cv2.imshow(\"original\", color_image)\n",
    "cv2.waitKey(0)\n",
    " \n",
    "cv2.imshow(\"blue\", B)\n",
    "cv2.waitKey(0)\n",
    " \n",
    "cv2.imshow(\"Green\", G)\n",
    "cv2.waitKey(0)\n",
    " \n",
    "cv2.imshow(\"red\", R)\n",
    "cv2.waitKey(0)\n",
    " \n",
    "cv2.destroyAllWindows()"
   ]
  },
  {
   "cell_type": "markdown",
   "id": "56928535",
   "metadata": {},
   "source": [
    "# ACCOMPLISHED!! 🤗"
   ]
  }
 ],
 "metadata": {
  "kernelspec": {
   "display_name": "Python 3 (ipykernel)",
   "language": "python",
   "name": "python3"
  },
  "language_info": {
   "codemirror_mode": {
    "name": "ipython",
    "version": 3
   },
   "file_extension": ".py",
   "mimetype": "text/x-python",
   "name": "python",
   "nbconvert_exporter": "python",
   "pygments_lexer": "ipython3",
   "version": "3.9.7"
  }
 },
 "nbformat": 4,
 "nbformat_minor": 5
}
